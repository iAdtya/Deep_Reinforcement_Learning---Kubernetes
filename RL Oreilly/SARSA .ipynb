{
 "cells": [
  {
   "cell_type": "markdown",
   "metadata": {},
   "source": [
    "# Q-Learning\n",
    "- Max(state,action)\n",
    "\n",
    "```\n",
    "max_new_state = np.max(q_table[new_state,:])\n",
    "\n",
    "q_table[state, action] = (1 - alpha) * q_table[state, action] + alpha * (reward + gamma * new_state_max - q_table[state, action])\n",
    "```\n",
    "\n",
    "# SARSA -> (State,Action,Reward,State2,Action2)\n",
    "- Next Action\n",
    "\n",
    "```\n",
    "sarsa_new_state = q_table(new_state,action2)\n",
    "\n",
    "q_table[state, action] = (1 - alpha) * q_table[state, action] + alpha * (reward + gamma * sarsa_new_state - q_table[state, action])\n",
    "```"
   ]
  },
  {
   "cell_type": "markdown",
   "metadata": {},
   "source": [
    "# Q-Learning\n",
    "### OFF Policy: In this, the Learning agent learns the value function according to the action derived from another Policy\n",
    "\n",
    "# SARSA -> State-Action-Reward-State2-Action2\n",
    "### ON Policy: In this, the Learning agent learns the value function according to the current action derived from the  Policy currently being used"
   ]
  },
  {
   "cell_type": "markdown",
   "metadata": {},
   "source": []
  }
 ],
 "metadata": {
  "kernelspec": {
   "display_name": "Python 3",
   "language": "python",
   "name": "python3"
  },
  "language_info": {
   "name": "python",
   "version": "3.10.14"
  }
 },
 "nbformat": 4,
 "nbformat_minor": 2
}
