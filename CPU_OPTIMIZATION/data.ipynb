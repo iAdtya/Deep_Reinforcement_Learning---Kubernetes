{
 "cells": [
  {
   "cell_type": "code",
   "execution_count": 1,
   "metadata": {},
   "outputs": [],
   "source": [
    "import pandas as pd\n",
    "import gymnasium as gym\n",
    "from gymnasium import spaces\n",
    "import numpy as np\n",
    "import random\n",
    "import torch\n",
    "from stable_baselines3 import PPO\n"
   ]
  },
  {
   "cell_type": "code",
   "execution_count": null,
   "metadata": {},
   "outputs": [],
   "source": [
    "# Define the environment\n",
    "class CPUSchedulingEnv(gym.Env):\n",
    "    def __init__(self, dataset):\n",
    "        super(CPUSchedulingEnv, self).__init__()\n",
    "        self.dataset = dataset\n",
    "        self.action_space = spaces.Discrete(len(dataset))\n",
    "        self.observation_space = spaces.Box(\n",
    "            low=0, high=1, shape=(len(dataset[0]),), dtype=np.float32\n",
    "        )\n",
    "        self.reset()\n",
    "\n",
    "    def reset(self):\n",
    "        self.current_time = 0\n",
    "        self.processes = sorted(\n",
    "            self.dataset, key=lambda x: x[2]\n",
    "        )  # Sort by arrival time\n",
    "        self.completed_processes = []\n",
    "        self.current_index = 0\n",
    "        return self._get_state()\n",
    "\n",
    "    def _get_state(self):\n",
    "        # Normalized state representation (e.g., scaled attributes)\n",
    "        return np.array(self.processes[self.current_index]) / np.array(\n",
    "            [999, 300, 1, 1, 10]\n",
    "        )\n",
    "\n",
    "    def step(self, action):\n",
    "        # Execute the selected process\n",
    "        selected_process = self.processes[action]\n",
    "        burst_time = selected_process[1]\n",
    "        self.current_time += burst_time\n",
    "        self.completed_processes.append(selected_process)\n",
    "\n",
    "        reward = -burst_time  # Example reward function (minimize burst time)\n",
    "        self.current_index += 1\n",
    "        done = self.current_index >= len(self.processes)\n",
    "        next_state = (\n",
    "            self._get_state() if not done else np.zeros(self.observation_space.shape)\n",
    "        )\n",
    "        return next_state, reward, done, {}"
   ]
  },
  {
   "cell_type": "code",
   "execution_count": 3,
   "metadata": {},
   "outputs": [],
   "source": [
    "data = pd.read_csv(\"process_data.csv\")"
   ]
  },
  {
   "cell_type": "code",
   "execution_count": 4,
   "metadata": {},
   "outputs": [
    {
     "data": {
      "text/html": [
       "<div>\n",
       "<style scoped>\n",
       "    .dataframe tbody tr th:only-of-type {\n",
       "        vertical-align: middle;\n",
       "    }\n",
       "\n",
       "    .dataframe tbody tr th {\n",
       "        vertical-align: top;\n",
       "    }\n",
       "\n",
       "    .dataframe thead th {\n",
       "        text-align: right;\n",
       "    }\n",
       "</style>\n",
       "<table border=\"1\" class=\"dataframe\">\n",
       "  <thead>\n",
       "    <tr style=\"text-align: right;\">\n",
       "      <th></th>\n",
       "      <th>Job Id</th>\n",
       "      <th>Burst time</th>\n",
       "      <th>Arrival Time</th>\n",
       "      <th>Prremptive</th>\n",
       "      <th>Resources</th>\n",
       "    </tr>\n",
       "  </thead>\n",
       "  <tbody>\n",
       "    <tr>\n",
       "      <th>0</th>\n",
       "      <td>247</td>\n",
       "      <td>199</td>\n",
       "      <td>0.4100</td>\n",
       "      <td>0</td>\n",
       "      <td>8</td>\n",
       "    </tr>\n",
       "    <tr>\n",
       "      <th>1</th>\n",
       "      <td>29</td>\n",
       "      <td>193</td>\n",
       "      <td>0.5925</td>\n",
       "      <td>1</td>\n",
       "      <td>2</td>\n",
       "    </tr>\n",
       "    <tr>\n",
       "      <th>2</th>\n",
       "      <td>170</td>\n",
       "      <td>75</td>\n",
       "      <td>0.3600</td>\n",
       "      <td>1</td>\n",
       "      <td>4</td>\n",
       "    </tr>\n",
       "    <tr>\n",
       "      <th>3</th>\n",
       "      <td>164</td>\n",
       "      <td>42</td>\n",
       "      <td>0.9725</td>\n",
       "      <td>0</td>\n",
       "      <td>8</td>\n",
       "    </tr>\n",
       "    <tr>\n",
       "      <th>4</th>\n",
       "      <td>312</td>\n",
       "      <td>257</td>\n",
       "      <td>0.6125</td>\n",
       "      <td>0</td>\n",
       "      <td>4</td>\n",
       "    </tr>\n",
       "  </tbody>\n",
       "</table>\n",
       "</div>"
      ],
      "text/plain": [
       "   Job Id  Burst time  Arrival Time  Prremptive  Resources\n",
       "0     247         199        0.4100           0          8\n",
       "1      29         193        0.5925           1          2\n",
       "2     170          75        0.3600           1          4\n",
       "3     164          42        0.9725           0          8\n",
       "4     312         257        0.6125           0          4"
      ]
     },
     "execution_count": 4,
     "metadata": {},
     "output_type": "execute_result"
    }
   ],
   "source": [
    "data.head()"
   ]
  },
  {
   "cell_type": "code",
   "execution_count": null,
   "metadata": {},
   "outputs": [],
   "source": [
    "env = CPUSchedulingEnv(data)"
   ]
  }
 ],
 "metadata": {
  "kernelspec": {
   "display_name": "Python 3",
   "language": "python",
   "name": "python3"
  },
  "language_info": {
   "codemirror_mode": {
    "name": "ipython",
    "version": 3
   },
   "file_extension": ".py",
   "mimetype": "text/x-python",
   "name": "python",
   "nbconvert_exporter": "python",
   "pygments_lexer": "ipython3",
   "version": "3.10.14"
  }
 },
 "nbformat": 4,
 "nbformat_minor": 2
}
